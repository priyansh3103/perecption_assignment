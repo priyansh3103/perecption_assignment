{
 "cells": [
  {
   "cell_type": "code",
   "execution_count": 16,
   "metadata": {},
   "outputs": [],
   "source": [
    "import pandas as pd\n",
    "import numpy as np\n",
    "import send_to_racing\n",
    "import tensorflow as tf\n",
    "import keras\n",
    "from keras.models import Sequential\n",
    "from keras.layers import Dense\n",
    "from keras.optimizers import Adam\n",
    "from keras.callbacks import ReduceLROnPlateau\n",
    "import time\n",
    "from keras import regularizers\n",
    "from keras_tuner import HyperParameters, GridSearch, RandomSearch\n",
    "from keras.layers import Dropout\n",
    "from keras.callbacks import EarlyStopping"
   ]
  },
  {
   "cell_type": "code",
   "execution_count": 17,
   "metadata": {},
   "outputs": [],
   "source": [
    "# Prepare your data\n",
    "bbox_data = np.array(send_to_racing.bbox)\n",
    "bbox_data = bbox_data[:432, 3:5]\n",
    "depth = np.array(send_to_racing.depth_values).reshape(441, 1)\n",
    "test_data = np.array(send_to_racing.bbox)[432:, 3:5]"
   ]
  },
  {
   "cell_type": "code",
   "execution_count": 18,
   "metadata": {},
   "outputs": [],
   "source": [
    "# Define the model building function\n",
    "def build_model(hp):\n",
    "    model = Sequential()\n",
    "    model.add(Dense(units=hp.Int('units_0', min_value=4, max_value=64, step=4),\n",
    "                    input_shape=(2,),\n",
    "                    activation='relu',\n",
    "                    kernel_regularizer=regularizers.l2(hp.Choice('l2_0', values=[0.0, 0.01, 0.001]))))\n",
    "\n",
    "    for i in range(hp.Int('num_hidden_layers', 0, 2)):\n",
    "        model.add(Dense(units=hp.Int(f'units_{i+1}', min_value=4, max_value=64, step=4),\n",
    "                        activation='relu',\n",
    "                        kernel_regularizer=regularizers.l2(hp.Choice(f'l2_{i+1}', values=[0.0, 0.01, 0.001]))))\n",
    "        \n",
    "        model.add(Dropout(rate=hp.Float(f'dropout_rate_{i}', min_value=0.0, max_value=0.5, step=0.2)))\n",
    "\n",
    "    model.add(Dense(1, activation='relu'))\n",
    "\n",
    "    model.compile(optimizer=Adam(learning_rate=hp.Float('learning_rate', min_value=1e-4, max_value=1e-2, sampling='LOG')),\n",
    "                  loss='mse',\n",
    "                  metrics=['mse'])\n",
    "    return model"
   ]
  },
  {
   "cell_type": "code",
   "execution_count": 19,
   "metadata": {},
   "outputs": [],
   "source": [
    "# Set up Keras Tuner with Random Search\n",
    "tuner = RandomSearch(\n",
    "    build_model,\n",
    "    objective='val_loss',\n",
    "    max_trials=40,\n",
    "    executions_per_trial=3,\n",
    "    directory='my_dir_1',\n",
    "    project_name='hyperparameter_1_tuning'\n",
    ")"
   ]
  },
  {
   "cell_type": "code",
   "execution_count": 20,
   "metadata": {},
   "outputs": [
    {
     "name": "stdout",
     "output_type": "stream",
     "text": [
      "Trial 40 Complete [00h 02m 00s]\n",
      "val_loss: 0.3294627567132314\n",
      "\n",
      "Best val_loss So Far: 0.14529656867186228\n",
      "Total elapsed time: 01h 32m 34s\n"
     ]
    }
   ],
   "source": [
    "early_stopping = EarlyStopping(monitor='val_loss', patience=15, restore_best_weights=True)\n",
    "# Search for the best hyperparameters\n",
    "tuner.search(\n",
    "    bbox_data, depth,\n",
    "    validation_split=0.40,\n",
    "    batch_size=10,\n",
    "    epochs=1000,\n",
    "    shuffle=True,\n",
    "    verbose=1\n",
    ")"
   ]
  },
  {
   "cell_type": "code",
   "execution_count": 21,
   "metadata": {},
   "outputs": [
    {
     "name": "stdout",
     "output_type": "stream",
     "text": [
      "Best hyperparameters:  {'units_0': 32, 'l2_0': 0.001, 'num_hidden_layers': 1, 'learning_rate': 0.001173298737059274, 'units_1': 36, 'l2_1': 0.0, 'dropout_rate_0': 0.2, 'units_2': 32, 'l2_2': 0.001, 'dropout_rate_1': 0.2}\n"
     ]
    },
    {
     "name": "stderr",
     "output_type": "stream",
     "text": [
      "/Users/priyansh/PycharmProjects/pythonProject/.venv/lib/python3.12/site-packages/keras/src/saving/saving_lib.py:396: UserWarning: Skipping variable loading for optimizer 'adam', because it has 2 variables whereas the saved optimizer has 14 variables. \n",
      "  trackable.load_own_variables(weights_store.get(inner_path))\n"
     ]
    }
   ],
   "source": [
    "# Retrieve the best model and hyperparameters\n",
    "best_model = tuner.get_best_models(num_models=1)[0]\n",
    "best_hyperparameters = tuner.get_best_hyperparameters()[0]\n",
    "\n",
    "print(\"Best hyperparameters: \", best_hyperparameters.values)"
   ]
  }
 ],
 "metadata": {
  "kernelspec": {
   "display_name": ".venv",
   "language": "python",
   "name": "python3"
  },
  "language_info": {
   "codemirror_mode": {
    "name": "ipython",
    "version": 3
   },
   "file_extension": ".py",
   "mimetype": "text/x-python",
   "name": "python",
   "nbconvert_exporter": "python",
   "pygments_lexer": "ipython3",
   "version": "3.12.0"
  }
 },
 "nbformat": 4,
 "nbformat_minor": 2
}
