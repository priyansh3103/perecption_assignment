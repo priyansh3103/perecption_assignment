{
 "cells": [
  {
   "cell_type": "code",
   "execution_count": 19,
   "metadata": {},
   "outputs": [],
   "source": [
    "import pandas as pd\n",
    "import numpy as np\n",
    "import send_to_racing\n",
    "import tensorflow as tf\n",
    "import keras\n",
    "from keras.models import Sequential\n",
    "from keras.layers import Dense\n",
    "from keras.optimizers import Adam\n",
    "from keras.callbacks import ReduceLROnPlateau\n",
    "import time\n",
    "from keras import regularizers\n",
    "from keras_tuner import HyperParameters, GridSearch, RandomSearch\n",
    "from keras.layers import Dropout\n",
    "from keras.callbacks import EarlyStopping"
   ]
  },
  {
   "cell_type": "code",
   "execution_count": 20,
   "metadata": {},
   "outputs": [],
   "source": [
    "# Prepare your data\n",
    "bbox_data = np.array(send_to_racing.bbox)\n",
    "bbox_data = bbox_data[:432, 3:5]\n",
    "depth = np.array(send_to_racing.depth_values).reshape(441, 1)\n",
    "test_data = np.array(send_to_racing.bbox)[432:, 3:5]"
   ]
  },
  {
   "cell_type": "code",
   "execution_count": 21,
   "metadata": {},
   "outputs": [],
   "source": [
    "# Define the model building function\n",
    "def build_model(hp):\n",
    "    model = Sequential()\n",
    "    model.add(Dense(units=hp.Int('units_0', min_value=16, max_value=128, step=16),\n",
    "                    input_shape=(2,),\n",
    "                    activation='relu',\n",
    "                    kernel_regularizer=regularizers.l2(hp.Choice('l2_0', values=[0.0, 0.01, 0.001]))))\n",
    "\n",
    "    for i in range(hp.Int('num_layers', 0, 2)):\n",
    "        model.add(Dense(units=hp.Int(f'units_{i+1}', min_value=16, max_value=128, step=16),\n",
    "                        activation='relu',\n",
    "                        kernel_regularizer=regularizers.l2(hp.Choice(f'l2_{i+1}', values=[0.0, 0.01, 0.001]))))\n",
    "        \n",
    "        model.add(Dropout(rate=hp.Float(f'dropout_rate_{i}', min_value=0.0, max_value=0.5, step=0.1)))\n",
    "\n",
    "    model.add(Dense(1, activation='relu'))\n",
    "\n",
    "    model.compile(optimizer=Adam(learning_rate=hp.Float('learning_rate', min_value=1e-4, max_value=1e-2, sampling='LOG')),\n",
    "                  loss='mse',\n",
    "                  metrics=['mse'])\n",
    "    return model"
   ]
  },
  {
   "cell_type": "code",
   "execution_count": 22,
   "metadata": {},
   "outputs": [],
   "source": [
    "# Set up Keras Tuner with Random Search\n",
    "tuner = RandomSearch(\n",
    "    build_model,\n",
    "    objective='val_loss',\n",
    "    max_trials=50,\n",
    "    executions_per_trial=3,\n",
    "    directory='my_dir',\n",
    "    project_name='hyperparameter_tuning'\n",
    ")"
   ]
  },
  {
   "cell_type": "code",
   "execution_count": 23,
   "metadata": {},
   "outputs": [
    {
     "name": "stdout",
     "output_type": "stream",
     "text": [
      "Trial 50 Complete [00h 01m 22s]\n",
      "val_loss: 1.9455689589182537\n",
      "\n",
      "Best val_loss So Far: 0.12005000064770381\n",
      "Total elapsed time: 01h 17m 46s\n"
     ]
    }
   ],
   "source": [
    "early_stopping = EarlyStopping(monitor='val_loss', patience=15, restore_best_weights=True)\n",
    "# Search for the best hyperparameters\n",
    "tuner.search(\n",
    "    bbox_data, depth,\n",
    "    validation_split=0.40,\n",
    "    batch_size=10,\n",
    "    epochs=700,\n",
    "    shuffle=True,\n",
    "    verbose=1\n",
    ")"
   ]
  },
  {
   "cell_type": "code",
   "execution_count": 25,
   "metadata": {},
   "outputs": [
    {
     "name": "stdout",
     "output_type": "stream",
     "text": [
      "Best hyperparameters:  {'units_0': 128, 'l2_0': 0.0, 'num_layers': 1, 'learning_rate': 0.0011171470937487741, 'units_1': 64, 'l2_1': 0.0, 'dropout_rate_0': 0.2, 'units_2': 112, 'l2_2': 0.001, 'dropout_rate_1': 0.1}\n"
     ]
    }
   ],
   "source": [
    "# Retrieve the best model and hyperparameters\n",
    "best_model = tuner.get_best_models(num_models=1)[0]\n",
    "best_hyperparameters = tuner.get_best_hyperparameters()[0]\n",
    "\n",
    "print(\"Best hyperparameters: \", best_hyperparameters.values)"
   ]
  }
 ],
 "metadata": {
  "kernelspec": {
   "display_name": ".venv",
   "language": "python",
   "name": "python3"
  },
  "language_info": {
   "codemirror_mode": {
    "name": "ipython",
    "version": 3
   },
   "file_extension": ".py",
   "mimetype": "text/x-python",
   "name": "python",
   "nbconvert_exporter": "python",
   "pygments_lexer": "ipython3",
   "version": "3.12.0"
  }
 },
 "nbformat": 4,
 "nbformat_minor": 2
}
